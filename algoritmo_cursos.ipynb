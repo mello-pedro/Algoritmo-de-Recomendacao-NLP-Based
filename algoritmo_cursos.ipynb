{
 "cells": [
  {
   "cell_type": "markdown",
   "id": "013f3549",
   "metadata": {},
   "source": [
    "# SISTEMA DE RECOMENDAÇÃO COM USO DE PROCESSAMENTO DE LINGUAGEM NATURAL"
   ]
  },
  {
   "cell_type": "markdown",
   "id": "4a6bfd2f",
   "metadata": {},
   "source": [
    "## Content-Based Recommendation System com uso de técnicas básicas de NLP\n",
    "\n",
    "> Um sistema de recomendação baseado em conteúdo (Content-Based Recommendation System) é um algoritmo que usa o processamento de linguagem natural (NLP) para analisar o conteúdo de um item, como um artigo, curso ou filme, e encontrar outros itens semelhantes com base em seu conteúdo.<br>\n",
    "<br>\n",
    "\n",
    "> Por exemplo, se um usuário lê um artigo sobre tecnologia, um sistema de recomendação baseado em conteúdo com NLP pode analisar as palavras-chave e tópicos do artigo e encontrar outros artigos relacionados à tecnologia para recomendar ao usuário. Esse tipo de sistema é eficaz para recomendar itens com base nas preferências individuais do usuário e pode ajudar a aumentar a satisfação do usuário.<br>\n",
    "<br>\n",
    "\n",
    "> A principal vantagem aqui é a simplicidade da implementação, o que facilitaria um eventual deploy e reduziria a necessidade de se ter uma grande capacidade computacional para o processamento das recomendações em tempo real.<br>\n",
    "<br>\n",
    "\n",
    "> A desvantagem é que o sistema de recomendação proposto apresentaria as mesmas recomendações para usuários que fizessem os mesmos cursos, haja vista serem baseadas no conteúdo do último curso feito, não sendo consideradas as preferências gerais do usuário para personalização de recomendação."
   ]
  },
  {
   "cell_type": "markdown",
   "id": "f042c206",
   "metadata": {},
   "source": [
    "### Fonte dos dados e dicionário de variáveis\n",
    "\n",
    "> Conforme orientações dos professores, os dados foram obtidos de plataformas de dados abertos do governo, mais precisamente no site da Escola Virtual de Governo\n",
    "\n",
    "> Logo, os dados utilizados aqui são abertos ao público e podem ser obtidos por meio do link: https://www.escolavirtual.gov.br/catalogo/exportar/csv.\n",
    "\n",
    "> As variáveis utilizadas representam:\n",
    "\n",
    "- id_curso: Identificador único do curso na plataforma;\n",
    "- nome_curso: Título da capacitação;\n",
    "- eixos_tematicos: Sub-divisão do eixo ao qual a capacitação pertence;\n",
    "- competencias: Competencias profissionais abrangidas pela capacitação;\n",
    "- certificador: Ente responsável pela plaicação do curso;\n",
    "- conteudista: Ente repsonsável pela elaboração dos conteúdos do curso;\n",
    "- carga_horaria: Medida em horas. Carga do curso;\n",
    "- disponibilidade dias: Em quanto o tempo o curso pode ser feito; Medido em dias.\n",
    "- tipo_oferta: Quem pode se inscrever na capacitação;\n",
    "- apresentacao: Texto de apresentação do curso na plataforma;\n",
    "- publico_alvo: Público-Alvo do curso;\n",
    "- conteudo_programatico: Módulos e/ou capítulos que compõem a capacitação."
   ]
  },
  {
   "cell_type": "markdown",
   "id": "2e80dc76",
   "metadata": {},
   "source": [
    "## Objetivos da Pesquisa:\n",
    "\n",
    "> O objetivo é desenvolver um sistema de recomendação de cursos totalmente baseado em técnicas de NLP, empregando as máximo as técnicas ministradas durante o curso de NLP pelos professores Vinicius, Thiago e Luís.\n",
    "\n",
    "> O sistema deverá apresentar recomendações no mínimo coerentes, as quais deverão ser avaliadas pelo operador, vez que nào existem rótulos e claramente trata-se de uma abordagem não-supervisionada.\n",
    "\n",
    "> O sistema utilizará inicialmente técnicas simples e amplamente conhecidas de NLP visando testar a sua eficiência e criando um benchmark para comparações com novas versões que aplicam melhorias advindas de técnicas mais recentes e sofisticadas."
   ]
  },
  {
   "cell_type": "markdown",
   "id": "03f785f7",
   "metadata": {},
   "source": [
    "## Metodologia utilizada:\n",
    "\n",
    "> O primeiro passo consistirá em identificar os dados que formarão o corpus;\n",
    "\n",
    "> Em seguida, será aplicada uma etapa de pré-processamento dos dados, com vistas a tornar o texto o mais limpo possível para extração de caracteríticas, seguindo aquilo que foi ensinado pelos professors e adaptando as funções de processamento textual às particularidades dos dados e da tarefa;\n",
    "\n",
    "> Como próximo passo, será feita a extração de características. Optarei por utilizar técnicas que domino com mais propriedade desde que foram ministradas, a saber o tfidf;\n",
    "\n",
    "> Por conseguinte, aplicarei enquanto técnica de NLP a similaridade do cosseno por ter alguma experiência e entender o funcionamento para tarefas de semelhança de textos;\n",
    "\n",
    "> A avaliação será feita diretamente, por meio da análise da similaridade e ajuste entre os 3 cursos recomendados e o curso-base que será dado ao modelo."
   ]
  },
  {
   "cell_type": "markdown",
   "id": "c1c9e139",
   "metadata": {},
   "source": [
    "## Código e implementação:\n",
    "\n",
    "> A partir de agora passarei à implementação com uso de python.\n",
    "\n",
    "> Foram utilizadas a seguintes dependências no projeto:\n",
    "\n",
    "    - python 3.10\n",
    "    - scikit-learn==1.2.2\n",
    "    - pandas==1.5.3\n",
    "    - regex==2023.5.5\n",
    "    - nltk==3.8.1"
   ]
  },
  {
   "cell_type": "code",
   "execution_count": 1,
   "id": "5327a15e",
   "metadata": {},
   "outputs": [
    {
     "data": {
      "text/html": [
       "<div>\n",
       "<style scoped>\n",
       "    .dataframe tbody tr th:only-of-type {\n",
       "        vertical-align: middle;\n",
       "    }\n",
       "\n",
       "    .dataframe tbody tr th {\n",
       "        vertical-align: top;\n",
       "    }\n",
       "\n",
       "    .dataframe thead th {\n",
       "        text-align: right;\n",
       "    }\n",
       "</style>\n",
       "<table border=\"1\" class=\"dataframe\">\n",
       "  <thead>\n",
       "    <tr style=\"text-align: right;\">\n",
       "      <th></th>\n",
       "      <th>id_curso</th>\n",
       "      <th>nome_curso</th>\n",
       "      <th>eixos_tematicos</th>\n",
       "      <th>competencias</th>\n",
       "      <th>certificador</th>\n",
       "      <th>conteudista</th>\n",
       "      <th>carga_horaria</th>\n",
       "      <th>disponibilidade_dias</th>\n",
       "      <th>tipo_oferta</th>\n",
       "      <th>apresentacao</th>\n",
       "      <th>publico_alvo</th>\n",
       "      <th>conteudo_programatico</th>\n",
       "    </tr>\n",
       "  </thead>\n",
       "  <tbody>\n",
       "    <tr>\n",
       "      <th>0</th>\n",
       "      <td>448</td>\n",
       "      <td>Design Thinking Aplicado à Educação</td>\n",
       "      <td>Educação e Docência / Governo e Transformação ...</td>\n",
       "      <td>Inovação e mudança</td>\n",
       "      <td>Enap - Escola Nacional de Administração Pública</td>\n",
       "      <td>Enap - Escola Nacional de Administração Pública</td>\n",
       "      <td>25</td>\n",
       "      <td>30</td>\n",
       "      <td>Curso Aberto</td>\n",
       "      <td>Este curso é uma ótima oportunidade para você ...</td>\n",
       "      <td>Servidores públicos que atuam na concepção, no...</td>\n",
       "      <td>Módulo 1: O contexto do Design Thinking na edu...</td>\n",
       "    </tr>\n",
       "    <tr>\n",
       "      <th>1</th>\n",
       "      <td>191</td>\n",
       "      <td>Supervisão de Estágio na Receita Federal do Br...</td>\n",
       "      <td>Gestão de Pessoas</td>\n",
       "      <td>NaN</td>\n",
       "      <td>Enap - Escola Nacional de Administração Pública</td>\n",
       "      <td>Receita Federal do Brasil</td>\n",
       "      <td>8</td>\n",
       "      <td>10</td>\n",
       "      <td>Curso Exclusivo</td>\n",
       "      <td>O curso Supervisão de Estágio foi produzido po...</td>\n",
       "      <td>Exclusivo para servidores da Receita Federal d...</td>\n",
       "      <td>Capítulo 1: IntroduçãoCapítulo 2: ContrataçãoC...</td>\n",
       "    </tr>\n",
       "    <tr>\n",
       "      <th>2</th>\n",
       "      <td>950</td>\n",
       "      <td>Promoção e Defesa dos Direitos das Pessoas LGB...</td>\n",
       "      <td>Direitos Humanos / Ética e Cidadania / Polític...</td>\n",
       "      <td>Foco nos resultados para os cidadãos / Geração...</td>\n",
       "      <td>Enap - Escola Nacional de Administração Pública</td>\n",
       "      <td>Ministério dos Direitos Humanos e Cidadania</td>\n",
       "      <td>30</td>\n",
       "      <td>30</td>\n",
       "      <td>Curso Aberto</td>\n",
       "      <td>Para fortalecer a cultura de direitos humanos,...</td>\n",
       "      <td>Pessoas que atuam na garantia, defesa e promoç...</td>\n",
       "      <td>Módulo 1: Identidade de Gênero.Módulo 2: Orien...</td>\n",
       "    </tr>\n",
       "    <tr>\n",
       "      <th>3</th>\n",
       "      <td>535</td>\n",
       "      <td>Gerenciamento de serviços de TIC focado na Adm...</td>\n",
       "      <td>Governo e Transformação Digital / Inovação / G...</td>\n",
       "      <td>Foco nos resultados para os cidadãos / Inovaçã...</td>\n",
       "      <td>Enap - Escola Nacional de Administração Pública</td>\n",
       "      <td>Secretaria de Governo Digital</td>\n",
       "      <td>25</td>\n",
       "      <td>30</td>\n",
       "      <td>Curso Aberto</td>\n",
       "      <td>A tecnologia se encontra em todos os contextos...</td>\n",
       "      <td>Agentes públicos, especialmente aqueles que sã...</td>\n",
       "      <td>Módulo 1: Desenvolvendo uma Visão Sobre Gerenc...</td>\n",
       "    </tr>\n",
       "    <tr>\n",
       "      <th>4</th>\n",
       "      <td>390</td>\n",
       "      <td>Etapas e Procedimentos do PNLD</td>\n",
       "      <td>Educação e Docência</td>\n",
       "      <td>NaN</td>\n",
       "      <td>Enap - Escola Nacional de Administração Pública</td>\n",
       "      <td>Ministério da Educação</td>\n",
       "      <td>30</td>\n",
       "      <td>30</td>\n",
       "      <td>Curso Aberto</td>\n",
       "      <td>O curso compõe a Trilha de Aprendizagem sobre ...</td>\n",
       "      <td>Todos os atores envolvidos nos processos de el...</td>\n",
       "      <td>Módulo 1: O livro como indutor da melhoria da ...</td>\n",
       "    </tr>\n",
       "  </tbody>\n",
       "</table>\n",
       "</div>"
      ],
      "text/plain": [
       "   id_curso                                         nome_curso  \\\n",
       "0       448                Design Thinking Aplicado à Educação   \n",
       "1       191  Supervisão de Estágio na Receita Federal do Br...   \n",
       "2       950  Promoção e Defesa dos Direitos das Pessoas LGB...   \n",
       "3       535  Gerenciamento de serviços de TIC focado na Adm...   \n",
       "4       390                     Etapas e Procedimentos do PNLD   \n",
       "\n",
       "                                     eixos_tematicos  \\\n",
       "0  Educação e Docência / Governo e Transformação ...   \n",
       "1                                  Gestão de Pessoas   \n",
       "2  Direitos Humanos / Ética e Cidadania / Polític...   \n",
       "3  Governo e Transformação Digital / Inovação / G...   \n",
       "4                                Educação e Docência   \n",
       "\n",
       "                                        competencias  \\\n",
       "0                                 Inovação e mudança   \n",
       "1                                                NaN   \n",
       "2  Foco nos resultados para os cidadãos / Geração...   \n",
       "3  Foco nos resultados para os cidadãos / Inovaçã...   \n",
       "4                                                NaN   \n",
       "\n",
       "                                      certificador  \\\n",
       "0  Enap - Escola Nacional de Administração Pública   \n",
       "1  Enap - Escola Nacional de Administração Pública   \n",
       "2  Enap - Escola Nacional de Administração Pública   \n",
       "3  Enap - Escola Nacional de Administração Pública   \n",
       "4  Enap - Escola Nacional de Administração Pública   \n",
       "\n",
       "                                       conteudista  carga_horaria  \\\n",
       "0  Enap - Escola Nacional de Administração Pública             25   \n",
       "1                        Receita Federal do Brasil              8   \n",
       "2      Ministério dos Direitos Humanos e Cidadania             30   \n",
       "3                    Secretaria de Governo Digital             25   \n",
       "4                           Ministério da Educação             30   \n",
       "\n",
       "   disponibilidade_dias      tipo_oferta  \\\n",
       "0                    30     Curso Aberto   \n",
       "1                    10  Curso Exclusivo   \n",
       "2                    30     Curso Aberto   \n",
       "3                    30     Curso Aberto   \n",
       "4                    30     Curso Aberto   \n",
       "\n",
       "                                        apresentacao  \\\n",
       "0  Este curso é uma ótima oportunidade para você ...   \n",
       "1  O curso Supervisão de Estágio foi produzido po...   \n",
       "2  Para fortalecer a cultura de direitos humanos,...   \n",
       "3  A tecnologia se encontra em todos os contextos...   \n",
       "4  O curso compõe a Trilha de Aprendizagem sobre ...   \n",
       "\n",
       "                                        publico_alvo  \\\n",
       "0  Servidores públicos que atuam na concepção, no...   \n",
       "1  Exclusivo para servidores da Receita Federal d...   \n",
       "2  Pessoas que atuam na garantia, defesa e promoç...   \n",
       "3  Agentes públicos, especialmente aqueles que sã...   \n",
       "4  Todos os atores envolvidos nos processos de el...   \n",
       "\n",
       "                               conteudo_programatico  \n",
       "0  Módulo 1: O contexto do Design Thinking na edu...  \n",
       "1  Capítulo 1: IntroduçãoCapítulo 2: ContrataçãoC...  \n",
       "2  Módulo 1: Identidade de Gênero.Módulo 2: Orien...  \n",
       "3  Módulo 1: Desenvolvendo uma Visão Sobre Gerenc...  \n",
       "4  Módulo 1: O livro como indutor da melhoria da ...  "
      ]
     },
     "execution_count": 1,
     "metadata": {},
     "output_type": "execute_result"
    }
   ],
   "source": [
    "#Importando os dados das capacitacoes\n",
    "import pandas as pd\n",
    "import pandas as pd\n",
    "import re\n",
    "import nltk\n",
    "from nltk.corpus import stopwords\n",
    "from sklearn.feature_extraction.text import TfidfVectorizer\n",
    "from sklearn.metrics.pairwise import linear_kernel\n",
    "\n",
    "\n",
    "## Carregando dataset com os dadosda base da EVG.\n",
    "df = pd.read_csv('/Users/pedroh.mello/Desktop/ENAP_CURSO_NLP/PROJETO_FINAL/catalogo_cursos_EVG.csv', sep='|')\n",
    "df.head()"
   ]
  },
  {
   "cell_type": "markdown",
   "id": "a3333887",
   "metadata": {},
   "source": [
    "### Seleção das variáveis de interesse:\n",
    "\n",
    "> Nem todas as variáveis serão utilizadas no estudo. O objetivo aqui é maximizar as informações textuais existentes sobre cada curso, de modo a ampliar o corpus e tentar captar ao máximo as relações textuais existentes.\n",
    "\n",
    "> As variáveis numéricas não serão utilizadas, vez que poderiam atrapalhar no atingimento dos objetivos da tarefa de NLP em questão.\n",
    "\n",
    "> Somente serão seleciondas do data set original as variáveis 'id_curso', 'nome_curso', 'apresentacao', 'conteudo_programatico', que serão guardadas em um novo dataframe chamado df_text."
   ]
  },
  {
   "cell_type": "code",
   "execution_count": 2,
   "id": "3bbdd6cf",
   "metadata": {},
   "outputs": [],
   "source": [
    "##Selecionando apenas as colunas textuais descritivas, que são os dados de interesse\n",
    "df_text = df[['id_curso', 'nome_curso', 'apresentacao', 'conteudo_programatico']].copy()"
   ]
  },
  {
   "cell_type": "code",
   "execution_count": 3,
   "id": "7d66bee5",
   "metadata": {},
   "outputs": [
    {
     "data": {
      "text/plain": [
       "id_curso                 0\n",
       "nome_curso               0\n",
       "apresentacao             0\n",
       "conteudo_programatico    0\n",
       "dtype: int64"
      ]
     },
     "execution_count": 3,
     "metadata": {},
     "output_type": "execute_result"
    }
   ],
   "source": [
    "#Buscando por entradas nulas nos textos de apresentacao dos cursos\n",
    "## Não existem entradas nulas.\n",
    "df_text.isnull().sum()"
   ]
  },
  {
   "cell_type": "markdown",
   "id": "9c2e93e1",
   "metadata": {},
   "source": [
    "#### Etapa de limpeza, transformação e compilação do texto\n",
    "\n",
    "> A partir deste momento as seguintes atividades serão aplicadas ao texto com o uso de python:\n",
    "\n",
    "- Padronização do texto para caracteres minúsculos;\n",
    "- Eliminação das palavras Módulo e Capítulo e os respectivos números e ';' que as acompanham;\n",
    "- Remoção de acentos e caracteres especiais;\n",
    "- Remoção de espaços indevidos;\n",
    "- Junção do nome do curso + conteúdo programático + texto de apresentação em uma única coluna de modo a maximizar as infos textuais e aumentar os documentos."
   ]
  },
  {
   "cell_type": "code",
   "execution_count": 4,
   "id": "d29962ae",
   "metadata": {},
   "outputs": [],
   "source": [
    "#Iniciando a limpeza do texto transformando tudo para minúsculo\n",
    "df_text['nome_curso'] = df_text['nome_curso'].apply(lambda x: x.lower() if isinstance(x, str) else x)\n",
    "df_text['apresentacao'] = df_text['apresentacao'].apply(lambda x: x.lower() if isinstance(x, str) else x)\n",
    "df_text['conteudo_programatico'] = df_text['conteudo_programatico'].apply(lambda x: x.lower() if isinstance(x, str) else x)\n",
    "df_text['conteudo_programatico'] = df_text['conteudo_programatico'].apply(lambda x: re.sub(r';', '; ', x))\n",
    "df_text['conteudo_programatico'] = df_text['conteudo_programatico'].apply(lambda x: re.sub(r'\\b(módulo|capítulo) \\d+: ', '', x, flags=re.IGNORECASE))\n"
   ]
  },
  {
   "cell_type": "code",
   "execution_count": 5,
   "id": "c2e2b8ce",
   "metadata": {},
   "outputs": [],
   "source": [
    "#Função p/ limpeza de acentuação e caracteres especiais.\n",
    "\n",
    "def traducao():\n",
    "    string_origem = 'ãÃâÂáÁàÀêÊéÉèÈîÎíÍìÌïÏõÕôÔóÓòÒûÛúÚùÙüÜçÇñÑ/\\'-\"<>,.?!'\n",
    "    string_destino = 'aaaaaaaaeeeeeeiiiiiiiioooooooouuuuuuuuccnn          '\n",
    "    return string_origem.maketrans(string_origem, string_destino)\n",
    "\n",
    "def clean_text(data):\n",
    "    if isinstance(data, str):\n",
    "        return data.translate(traducao())\n",
    "    return data\n",
    "\n",
    "#Aplicando as funcoes para limpeza dos textos\n",
    "df_text['curso_transform'] = df_text['nome_curso'].apply(clean_text)\n",
    "df_text['apresentacao_transform'] = df_text['apresentacao'].apply(clean_text)\n",
    "df_text['conteudo_prog_transform'] = df_text['conteudo_programatico'].apply(clean_text)"
   ]
  },
  {
   "cell_type": "code",
   "execution_count": 6,
   "id": "3f54752f",
   "metadata": {},
   "outputs": [],
   "source": [
    "# Ainda há necessidade de tirar as palavras modulo e capitulo das frases do conteudo prog. \n",
    "## Além disso, vou remover os numeros associados aos modulos e as pontuacoes totalmente;\n",
    "def limpar_texto_compilado(texto):\n",
    "    #remove pontuações restantes e espacpos extras\n",
    "    texto_limpo = re.sub(r'[;,.]', '', texto)\n",
    "    texto_limpo = re.sub(r'\\s+', ' ', texto_limpo).strip()\n",
    "    return texto_limpo\n",
    "\n",
    "df_text['conteudo_prog_transform'] = df_text['conteudo_prog_transform'].apply(limpar_texto_compilado)\n"
   ]
  },
  {
   "cell_type": "code",
   "execution_count": 7,
   "id": "a7c5117d",
   "metadata": {},
   "outputs": [],
   "source": [
    "#Criando uma coluna que compila o nome do curso + texto de apresent. p/ maximizar infos textuais\n",
    "def compilado(df_text):\n",
    "    return df_text[\"curso_transform\"]+\" \"+ df_text[\"apresentacao_transform\"]+ \" \"+ df_text[\"conteudo_prog_transform\"]\n",
    "\n",
    "df_text['compilado_textual'] = compilado(df_text)"
   ]
  },
  {
   "cell_type": "markdown",
   "id": "eecb6bc0",
   "metadata": {},
   "source": [
    "#### Assim ficou a configuração final dos dados após a aplicação do pré-prpcessamento:"
   ]
  },
  {
   "cell_type": "code",
   "execution_count": 8,
   "id": "711afdac",
   "metadata": {},
   "outputs": [
    {
     "data": {
      "text/html": [
       "<div>\n",
       "<style scoped>\n",
       "    .dataframe tbody tr th:only-of-type {\n",
       "        vertical-align: middle;\n",
       "    }\n",
       "\n",
       "    .dataframe tbody tr th {\n",
       "        vertical-align: top;\n",
       "    }\n",
       "\n",
       "    .dataframe thead th {\n",
       "        text-align: right;\n",
       "    }\n",
       "</style>\n",
       "<table border=\"1\" class=\"dataframe\">\n",
       "  <thead>\n",
       "    <tr style=\"text-align: right;\">\n",
       "      <th></th>\n",
       "      <th>id_curso</th>\n",
       "      <th>nome_curso</th>\n",
       "      <th>apresentacao</th>\n",
       "      <th>conteudo_programatico</th>\n",
       "      <th>curso_transform</th>\n",
       "      <th>apresentacao_transform</th>\n",
       "      <th>conteudo_prog_transform</th>\n",
       "      <th>compilado_textual</th>\n",
       "    </tr>\n",
       "  </thead>\n",
       "  <tbody>\n",
       "    <tr>\n",
       "      <th>0</th>\n",
       "      <td>448</td>\n",
       "      <td>design thinking aplicado à educação</td>\n",
       "      <td>este curso é uma ótima oportunidade para você ...</td>\n",
       "      <td>o contexto do design thinking na educação.etap...</td>\n",
       "      <td>design thinking aplicado a educacao</td>\n",
       "      <td>este curso e uma otima oportunidade para voce ...</td>\n",
       "      <td>o contexto do design thinking na educacao etap...</td>\n",
       "      <td>design thinking aplicado a educacao este curso...</td>\n",
       "    </tr>\n",
       "    <tr>\n",
       "      <th>1</th>\n",
       "      <td>191</td>\n",
       "      <td>supervisão de estágio na receita federal do br...</td>\n",
       "      <td>o curso supervisão de estágio foi produzido po...</td>\n",
       "      <td>introduçãocapítulo 2: contrataçãocapítulo 3: a...</td>\n",
       "      <td>supervisao de estagio na receita federal do br...</td>\n",
       "      <td>o curso supervisao de estagio foi produzido po...</td>\n",
       "      <td>introducaocapitulo 2: contratacaocapitulo 3: a...</td>\n",
       "      <td>supervisao de estagio na receita federal do br...</td>\n",
       "    </tr>\n",
       "    <tr>\n",
       "      <th>2</th>\n",
       "      <td>950</td>\n",
       "      <td>promoção e defesa dos direitos das pessoas lgb...</td>\n",
       "      <td>para fortalecer a cultura de direitos humanos,...</td>\n",
       "      <td>identidade de gênero.orientação afetiva-sexual...</td>\n",
       "      <td>promocao e defesa dos direitos das pessoas lgb...</td>\n",
       "      <td>para fortalecer a cultura de direitos humanos ...</td>\n",
       "      <td>identidade de genero orientacao afetiva sexual...</td>\n",
       "      <td>promocao e defesa dos direitos das pessoas lgb...</td>\n",
       "    </tr>\n",
       "    <tr>\n",
       "      <th>3</th>\n",
       "      <td>535</td>\n",
       "      <td>gerenciamento de serviços de tic focado na adm...</td>\n",
       "      <td>a tecnologia se encontra em todos os contextos...</td>\n",
       "      <td>desenvolvendo uma visão sobre gerenciamento de...</td>\n",
       "      <td>gerenciamento de servicos de tic focado na adm...</td>\n",
       "      <td>a tecnologia se encontra em todos os contextos...</td>\n",
       "      <td>desenvolvendo uma visao sobre gerenciamento de...</td>\n",
       "      <td>gerenciamento de servicos de tic focado na adm...</td>\n",
       "    </tr>\n",
       "    <tr>\n",
       "      <th>4</th>\n",
       "      <td>390</td>\n",
       "      <td>etapas e procedimentos do pnld</td>\n",
       "      <td>o curso compõe a trilha de aprendizagem sobre ...</td>\n",
       "      <td>o livro como indutor da melhoria da qualidade ...</td>\n",
       "      <td>etapas e procedimentos do pnld</td>\n",
       "      <td>o curso compoe a trilha de aprendizagem sobre ...</td>\n",
       "      <td>o livro como indutor da melhoria da qualidade ...</td>\n",
       "      <td>etapas e procedimentos do pnld o curso compoe ...</td>\n",
       "    </tr>\n",
       "  </tbody>\n",
       "</table>\n",
       "</div>"
      ],
      "text/plain": [
       "   id_curso                                         nome_curso  \\\n",
       "0       448                design thinking aplicado à educação   \n",
       "1       191  supervisão de estágio na receita federal do br...   \n",
       "2       950  promoção e defesa dos direitos das pessoas lgb...   \n",
       "3       535  gerenciamento de serviços de tic focado na adm...   \n",
       "4       390                     etapas e procedimentos do pnld   \n",
       "\n",
       "                                        apresentacao  \\\n",
       "0  este curso é uma ótima oportunidade para você ...   \n",
       "1  o curso supervisão de estágio foi produzido po...   \n",
       "2  para fortalecer a cultura de direitos humanos,...   \n",
       "3  a tecnologia se encontra em todos os contextos...   \n",
       "4  o curso compõe a trilha de aprendizagem sobre ...   \n",
       "\n",
       "                               conteudo_programatico  \\\n",
       "0  o contexto do design thinking na educação.etap...   \n",
       "1  introduçãocapítulo 2: contrataçãocapítulo 3: a...   \n",
       "2  identidade de gênero.orientação afetiva-sexual...   \n",
       "3  desenvolvendo uma visão sobre gerenciamento de...   \n",
       "4  o livro como indutor da melhoria da qualidade ...   \n",
       "\n",
       "                                     curso_transform  \\\n",
       "0                design thinking aplicado a educacao   \n",
       "1  supervisao de estagio na receita federal do br...   \n",
       "2  promocao e defesa dos direitos das pessoas lgb...   \n",
       "3  gerenciamento de servicos de tic focado na adm...   \n",
       "4                     etapas e procedimentos do pnld   \n",
       "\n",
       "                              apresentacao_transform  \\\n",
       "0  este curso e uma otima oportunidade para voce ...   \n",
       "1  o curso supervisao de estagio foi produzido po...   \n",
       "2  para fortalecer a cultura de direitos humanos ...   \n",
       "3  a tecnologia se encontra em todos os contextos...   \n",
       "4  o curso compoe a trilha de aprendizagem sobre ...   \n",
       "\n",
       "                             conteudo_prog_transform  \\\n",
       "0  o contexto do design thinking na educacao etap...   \n",
       "1  introducaocapitulo 2: contratacaocapitulo 3: a...   \n",
       "2  identidade de genero orientacao afetiva sexual...   \n",
       "3  desenvolvendo uma visao sobre gerenciamento de...   \n",
       "4  o livro como indutor da melhoria da qualidade ...   \n",
       "\n",
       "                                   compilado_textual  \n",
       "0  design thinking aplicado a educacao este curso...  \n",
       "1  supervisao de estagio na receita federal do br...  \n",
       "2  promocao e defesa dos direitos das pessoas lgb...  \n",
       "3  gerenciamento de servicos de tic focado na adm...  \n",
       "4  etapas e procedimentos do pnld o curso compoe ...  "
      ]
     },
     "execution_count": 8,
     "metadata": {},
     "output_type": "execute_result"
    }
   ],
   "source": [
    "df_text.head()"
   ]
  },
  {
   "cell_type": "code",
   "execution_count": 9,
   "id": "50552280",
   "metadata": {},
   "outputs": [
    {
     "data": {
      "text/plain": [
       "'etapas e procedimentos do pnld o curso compoe a trilha de aprendizagem sobre o pnld  possibilitando um acompanhamento mais efetivo das escolas e dos profissionais que atuam na educacao basica  promove a elaboracao dos planos pedagogicos  a escolha dos livros e as etapas de remanejamento  dentre outras praticas executadas na escola  o livro como indutor da melhoria da qualidade da educacao basica etapas procedimentos e funcionamento do pnld pnld na pratica recursos disponiveis de suporte ao pnld sistemas informatizados de apoio ao pnld'"
      ]
     },
     "execution_count": 9,
     "metadata": {},
     "output_type": "execute_result"
    }
   ],
   "source": [
    "##verificandfo a saida apos o pre-process total. exempplo 1 documento.\n",
    "df_text['compilado_textual'][4]"
   ]
  },
  {
   "cell_type": "markdown",
   "id": "a3114d10",
   "metadata": {},
   "source": [
    "### Extração de características e desenvolvimento da tarefa de NLP\n",
    "\n",
    "> Neste momento, utilizarei apenas o TFIDF para extração das características dos textos dos cursos.\n",
    "\n",
    "> O TFIDF pode ser utilizado por meio da biblioteca scikit-learn do python e foi amplamente ensinado pelos professores e utlizado durante as primeiras aulas do curso;\n",
    "\n",
    "> Apesar de ser uma das técnicas mais rudimentares no campo do NLP, ainda apresenta bons resultads.\n",
    "\n",
    "> A biblioteca nltk será responsável por listar automaticamente as stopwords em português que serão removidas para não atrapalharem a extração de características dos textos.\n",
    "\n",
    "> Por conseguinte, o sistema fucnionará da seguinte maneira:\n",
    "- À coluna compilado textual será aplicada a transformação em vetores TF-IDF. Esta etapa transformará os dados textuais em uma matriz tfidf onde as linhas representam os cursos e as colunas representam os termos, com os valores ponderados pelo tfidf.\n",
    "- Em seguida, será feito o cálculo da similaridade do cosseno entre essas matrizes por meio da função built-in do scikit-learn 'linear kernel'.\n",
    "- A similaridades do cosseno mede o ângulo enre dois vetores no espaço multidimensional. Quanto mais próximo de 1 for esse valor, mais alta será a similaridade.\n",
    "- Após isto, a função get_recomend será responsável por comparar a similaridade do cosseno entre um curso inputado pelo usuário e a matriz completa, de maneira a retornar os 3 mais similares e os seus respectivos valores (excetuando-se o primeiro curso, que é sempre o mesmo do curso-base pois a similaridade será máxima)."
   ]
  },
  {
   "cell_type": "code",
   "execution_count": 10,
   "id": "f31de4ce",
   "metadata": {},
   "outputs": [],
   "source": [
    "\n",
    "#utilizando nltk para realizar acoes de NLP(remoc de stopwords)\n",
    "stopwords_1 = nltk.corpus.stopwords.words('portuguese')\n",
    "my_stopwords = ['apresentacao', 'curso', 'neste', 'capítulo', 'capitulo'\n",
    "                ]\n",
    "stopwords_1.extend(my_stopwords)\n",
    "\n",
    "#vetorizando os textos e criando bag of words\n",
    "tfidf_vectorizer = TfidfVectorizer(stop_words=stopwords_1)"
   ]
  },
  {
   "cell_type": "code",
   "execution_count": 11,
   "id": "b1803d7f",
   "metadata": {},
   "outputs": [],
   "source": [
    "#Calculando a similaridade do cosseno entre os vetores tfidf dos textos\n",
    "\n",
    "tf_matrix = tfidf_vectorizer.fit_transform(df_text['compilado_textual'])\n",
    "cosine_sim = linear_kernel(tf_matrix, tf_matrix)"
   ]
  },
  {
   "cell_type": "code",
   "execution_count": 25,
   "id": "786ecb72",
   "metadata": {},
   "outputs": [
    {
     "data": {
      "text/plain": [
       "(611, 6590)"
      ]
     },
     "execution_count": 25,
     "metadata": {},
     "output_type": "execute_result"
    }
   ],
   "source": [
    "tf_matrix.shape"
   ]
  },
  {
   "cell_type": "code",
   "execution_count": 22,
   "id": "a89eb181",
   "metadata": {},
   "outputs": [
    {
     "data": {
      "text/plain": [
       "array([[1.        , 0.        , 0.00891448, ..., 0.00470345, 0.00908853,\n",
       "        0.01561073],\n",
       "       [0.        , 1.        , 0.        , ..., 0.0466949 , 0.        ,\n",
       "        0.00695336],\n",
       "       [0.00891448, 0.        , 1.        , ..., 0.00524394, 0.01715466,\n",
       "        0.05904105],\n",
       "       ...,\n",
       "       [0.00470345, 0.0466949 , 0.00524394, ..., 1.        , 0.00284807,\n",
       "        0.06810128],\n",
       "       [0.00908853, 0.        , 0.01715466, ..., 0.00284807, 1.        ,\n",
       "        0.00624859],\n",
       "       [0.01561073, 0.00695336, 0.05904105, ..., 0.06810128, 0.00624859,\n",
       "        1.        ]])"
      ]
     },
     "execution_count": 22,
     "metadata": {},
     "output_type": "execute_result"
    }
   ],
   "source": [
    "cosine_sim"
   ]
  },
  {
   "cell_type": "code",
   "execution_count": 23,
   "id": "fb99ce81",
   "metadata": {},
   "outputs": [
    {
     "data": {
      "text/plain": [
       "(611, 611)"
      ]
     },
     "execution_count": 23,
     "metadata": {},
     "output_type": "execute_result"
    }
   ],
   "source": [
    "cosine_sim.shape"
   ]
  },
  {
   "cell_type": "code",
   "execution_count": 12,
   "id": "d6b8137b",
   "metadata": {},
   "outputs": [],
   "source": [
    "## Chamando curso pelo id_curso\n",
    "df1 = df_text.reset_index()\n",
    "indice = pd.Series(df1.index, index=df1['id_curso'])\n",
    "\n",
    "# construindo a funcao responsavel por recomendar curso \n",
    "def get_recomend(id_curso, cosine_sim=cosine_sim):\n",
    "    idx = indice[id_curso]\n",
    "    course_name = df1.loc[df1['id_curso'] == id_curso, 'nome_curso'].values[0].title()\n",
    "    sim_score = list(enumerate(cosine_sim[idx]))\n",
    "    sim_score = sorted(sim_score, key=lambda x: x[1], reverse=True)\n",
    "    sim_score = sim_score[1:4]  # Pegando os 3 cursos mais similares, eliminando o primeiro que é ele mesmo\n",
    "    sim_index = [i[0] for i in sim_score]\n",
    "    \n",
    "    recomend = pd.DataFrame({\n",
    "        'Curso Recomendado': df1['nome_curso'].iloc[sim_index],\n",
    "        'Sim_Coss': [score[1] for score in sim_score]\n",
    "    }).reset_index(drop=True)\n",
    "    \n",
    "    print(f\"As capacitações mais similares ao curso '{course_name}' são:\\n\")\n",
    "    return recomend\n"
   ]
  },
  {
   "cell_type": "markdown",
   "id": "b7535c47",
   "metadata": {},
   "source": [
    "#### A seguir um exemplo de como a função para recomendar cursos pode ser utilizada:"
   ]
  },
  {
   "cell_type": "code",
   "execution_count": 13,
   "id": "b910c4e5",
   "metadata": {},
   "outputs": [
    {
     "name": "stdout",
     "output_type": "stream",
     "text": [
      "As capacitações mais similares ao curso 'Nova Lei De Licitações: Visão Geral' são:\n",
      "\n",
      "                                   Curso Recomendado  Sim_Coss\n",
      "0  nova lei de licitações: planejamento e governança  0.427798\n",
      "1          nova lei de licitações: gestão contratual  0.427230\n",
      "2      nova lei de licitações: sanções ao fornecedor  0.415061\n"
     ]
    }
   ],
   "source": [
    "# Exemplo de uso da função\n",
    "pd.set_option('display.max_colwidth', None)\n",
    "print(get_recomend(486, cosine_sim))"
   ]
  },
  {
   "cell_type": "markdown",
   "id": "a1577c26",
   "metadata": {},
   "source": [
    "### Avaliando o fit das recomendações\n",
    "\n",
    "> Por se tratar de um sistema de recomendação, a análise de quão bem o modelo performa deve ser feita por meio da avaliação da qualidade das recomendações extraídas do sistema a partir do seu fit aparente com o curso base.\n",
    "\n",
    "> Desta feita, farei a extração de algumas recomendações para saber se guardam relação - ao menos indiretamente - com o curso base que foi passado à função."
   ]
  },
  {
   "cell_type": "markdown",
   "id": "08386139",
   "metadata": {},
   "source": [
    "##### **Exemplo de Avaliação 1: Curso-Base 'estatítica':**\n",
    "\n",
    "> Conforme demonstrado a seguir, o modelo trouxe recomendações de similaridade muito ajustdas, vez que todos os cursos apresentados guardam nítida relação com o tema do curso-base"
   ]
  },
  {
   "cell_type": "code",
   "execution_count": 14,
   "id": "a5a963d7",
   "metadata": {},
   "outputs": [
    {
     "name": "stdout",
     "output_type": "stream",
     "text": [
      "As capacitações mais similares ao curso 'Estatística' são:\n",
      "\n",
      "                                            Curso Recomendado  Sim_Coss\n",
      "0                                               macroeconomia  0.226345\n",
      "1  estatística para análise de dados na administração pública  0.214377\n",
      "2                                               microeconomia  0.199915\n"
     ]
    }
   ],
   "source": [
    "print(get_recomend(96, cosine_sim))"
   ]
  },
  {
   "cell_type": "markdown",
   "id": "64be9bc0",
   "metadata": {},
   "source": [
    "##### **Exemplo de Avaliação 2: Curso-Base 'Design Thinking Aplicado À Educação':**\n",
    "\n",
    "> As recomendações de cursos parecem muito ajustdas, vez que todos os cursos apresentados guardam nítida relação com o tema do curso-base, assim como no exemplo anterior."
   ]
  },
  {
   "cell_type": "code",
   "execution_count": 15,
   "id": "af2b8d37",
   "metadata": {},
   "outputs": [
    {
     "name": "stdout",
     "output_type": "stream",
     "text": [
      "As capacitações mais similares ao curso 'Design Thinking Aplicado À Educação' são:\n",
      "\n",
      "                                     Curso Recomendado  Sim_Coss\n",
      "0               design thinking aplicado a bibliotecas  0.551885\n",
      "1  princípios do design thinking e inovação em governo  0.462572\n",
      "2   design sprint em projetos de transformação digital  0.274022\n"
     ]
    }
   ],
   "source": [
    "print(get_recomend(448, cosine_sim))"
   ]
  },
  {
   "cell_type": "markdown",
   "id": "46d55c35",
   "metadata": {},
   "source": [
    "##### **Exemplo de Avaliação 3: Curso-Base 'Etapas E Procedimentos Do Pnld':**\n",
    "\n",
    "> Conforme demonstrado a seguir, mais uma vez o modelo trouxe recomendações de similaridade muito ajustdas, vez que todos os cursos apresentados guardam nítida relação com o tema do curso-base.\n",
    "\n",
    "> **Aqui ele demonstra uma de suas características mais importantes: A capacidade de recomendar cursos sequenciais;**"
   ]
  },
  {
   "cell_type": "code",
   "execution_count": 16,
   "id": "40aafc84",
   "metadata": {},
   "outputs": [
    {
     "name": "stdout",
     "output_type": "stream",
     "text": [
      "As capacitações mais similares ao curso 'Etapas E Procedimentos Do Pnld' são:\n",
      "\n",
      "                                          Curso Recomendado  Sim_Coss\n",
      "0                                     a importância do pnld  0.537163\n",
      "1  pnld – programa nacional do livro e do material didático  0.449796\n",
      "2                 a construção dos livros didáticos do pnld  0.402239\n"
     ]
    }
   ],
   "source": [
    "print(get_recomend(390, cosine_sim))"
   ]
  },
  {
   "cell_type": "markdown",
   "id": "c13ad5cc",
   "metadata": {},
   "source": [
    "##### **Exemplo de Avaliação 4: Curso-Base 'Conceitos Essenciais Sobre Patologias Em Estruturas De Concreto':**\n",
    "\n",
    "> Aqui o sistema demonstra um ponto fraco: Temas que possuem estrita relação ortográfica mas nenhuma relação semântica acabam sendo agrupados juntos pela máquina preditiva;"
   ]
  },
  {
   "cell_type": "code",
   "execution_count": 17,
   "id": "dba0750b",
   "metadata": {},
   "outputs": [
    {
     "name": "stdout",
     "output_type": "stream",
     "text": [
      "As capacitações mais similares ao curso 'Conceitos Essenciais Sobre Patologias Em Estruturas De Concreto' são:\n",
      "\n",
      "                                               Curso Recomendado  Sim_Coss\n",
      "0  estruturas organizacionais do poder executivo federal - siorg  0.105977\n",
      "1                                    educação patrimonial e arte  0.086334\n",
      "2                 fiscalização de projetos e obras de engenharia  0.085576\n"
     ]
    }
   ],
   "source": [
    "print(get_recomend(889, cosine_sim))"
   ]
  },
  {
   "cell_type": "markdown",
   "id": "1d723246",
   "metadata": {},
   "source": [
    "##### **Exemplo de Avaliação 5: Curso-Base 'S2Id - M3 - Usuário Federal - Solicitação De Recursos Para Obras De Reconstrução':**\n",
    "\n",
    "> Mais uma vez ele demonstra uma excelente capacidade de lidar com cursos sequenciais."
   ]
  },
  {
   "cell_type": "code",
   "execution_count": 18,
   "id": "390c6dd0",
   "metadata": {},
   "outputs": [
    {
     "name": "stdout",
     "output_type": "stream",
     "text": [
      "As capacitações mais similares ao curso 'S2Id - M3 - Usuário Federal - Solicitação De Recursos Para Obras De Reconstrução' são:\n",
      "\n",
      "                                                                    Curso Recomendado  \\\n",
      "0  s2id - m3 - usuário municipal - solicitação de recursos para obras de reconstrução   \n",
      "1   s2id - m3 - usuário estadual - solicitação de recursos para obras de reconstrução   \n",
      "2            s2id - m3 - usuário municipal - acompanhamento das obras de reconstrução   \n",
      "\n",
      "   Sim_Coss  \n",
      "0  0.341219  \n",
      "1  0.331710  \n",
      "2  0.312552  \n"
     ]
    }
   ],
   "source": [
    "print(get_recomend(782, cosine_sim))"
   ]
  },
  {
   "cell_type": "markdown",
   "id": "d0cecedb",
   "metadata": {},
   "source": [
    "## Conclusões:\n",
    "> Após os passos anteriores, foi possível avaliar quais seriam as 3 recomendações de cursos que o sistema de NLP em questão seria capaz de prover.\n",
    "\n",
    "> Apesar de utilizar técnicas iniciais de NLP, os resultados se mostram muito satisfatórios, haja vista a aparente baixa complexidade computacional do sistema e o baixo custo de processamento necessário para se obter as recomendações.\n",
    "\n",
    "> Além disto, o sistema se mostrou muito bom na identificação e recomendação de cursos sequenciais.\n",
    "\n",
    "> Apesar disso, o sistema apresenta limitações em relação à captação de contexto. Uma vez que o TFIDF não é a técnica mais adequada para captação de relações contextuais, temas que possuem relação ortográfica mas significados completamente diferentes acabam sendo agrupados juntos pela máquina preditiva.\n",
    "\n",
    "> Isso fica evidente no exemplo de avaliação 4, onde o modelo apresentou alta similiaridade entre os cursos 'Conceitos Essenciais Sobre Patologias Em Estruturas De Concreto' e 'estruturas organizacionais do poder executivo federal - siorg', justamente por não captar a diferença entre estruturas organizacionais e de engenharia.\n",
    "\n",
    "> Para tanto, uma importante oportunidade de melhoria a ser pesquisada seria aimplementação - na eta de extração de características - de modelos capazes de lidar com o estabelecimento de relações contextuais e 'memória' de relações de longo prazo, como uma rede neural bi-lstm ou até mesmo uma arquitetura de transformers.\n",
    "\n",
    "> Uma próxima etapa interessante poderia ser o desenvolvimento de uma plaicação em streamlit que consumiria o modelo via API (endpoint construido para consumo do modelo) para testar o modelo à exaustão e verificar sua velocidade de resposta."
   ]
  },
  {
   "cell_type": "markdown",
   "id": "84f79a34",
   "metadata": {},
   "source": [
    "## ESPAÇO DESTINADO AOS TESTES DA FUNÇÃO:\n",
    "\n",
    "> **Para obter alguma recomendação, escolha um dos cursos no catálogo anexo, copie seu id_curso e insira no argumento da função get_recomend abaixo:**"
   ]
  },
  {
   "cell_type": "code",
   "execution_count": 19,
   "id": "e68a3d44",
   "metadata": {},
   "outputs": [
    {
     "name": "stdout",
     "output_type": "stream",
     "text": [
      "As capacitações mais similares ao curso 'Promoção E Defesa Dos Direitos Das Pessoas Lgbtqia+' são:\n",
      "\n",
      "                                                         Curso Recomendado  \\\n",
      "0                               direitos humanos: uma declaração universal   \n",
      "1                                             educação em direitos humanos   \n",
      "2  direitos humanos e saúde mental - curso permanente damião ximenes lopes   \n",
      "\n",
      "   Sim_Coss  \n",
      "0  0.266931  \n",
      "1  0.222446  \n",
      "2  0.200156  \n"
     ]
    }
   ],
   "source": [
    "print(get_recomend(950, cosine_sim))"
   ]
  }
 ],
 "metadata": {
  "kernelspec": {
   "display_name": "testenv",
   "language": "python",
   "name": "python3"
  },
  "language_info": {
   "codemirror_mode": {
    "name": "ipython",
    "version": 3
   },
   "file_extension": ".py",
   "mimetype": "text/x-python",
   "name": "python",
   "nbconvert_exporter": "python",
   "pygments_lexer": "ipython3",
   "version": "3.10.10"
  }
 },
 "nbformat": 4,
 "nbformat_minor": 5
}
